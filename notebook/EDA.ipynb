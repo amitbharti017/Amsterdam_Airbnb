{
 "cells": [
  {
   "cell_type": "code",
   "execution_count": 1,
   "metadata": {},
   "outputs": [],
   "source": [
    "import numpy as np\n",
    "import pandas as pd\n",
    "import matplotlib.pyplot as plt\n",
    "import seaborn as sns\n",
    "%matplotlib inline\n",
    "import warnings\n",
    "warnings.filterwarnings('ignore')"
   ]
  },
  {
   "cell_type": "code",
   "execution_count": 45,
   "metadata": {},
   "outputs": [],
   "source": [
    "from sklearn.model_selection import train_test_split\n",
    "import folium\n",
    "from folium.plugins import FastMarkerCluster\n",
    "import re\n",
    "from datetime import datetime\n"
   ]
  },
  {
   "cell_type": "code",
   "execution_count": 3,
   "metadata": {},
   "outputs": [],
   "source": [
    "df = pd.read_csv(\"../data/listings.csv.gz\",compression=\"gzip\")"
   ]
  },
  {
   "cell_type": "code",
   "execution_count": 4,
   "metadata": {},
   "outputs": [
    {
     "data": {
      "text/plain": [
       "(8739, 75)"
      ]
     },
     "execution_count": 4,
     "metadata": {},
     "output_type": "execute_result"
    }
   ],
   "source": [
    "df.shape"
   ]
  },
  {
   "cell_type": "markdown",
   "metadata": {},
   "source": [
    "## 1) Splitting the dataset into 70-15-15 ratio"
   ]
  },
  {
   "cell_type": "code",
   "execution_count": 5,
   "metadata": {},
   "outputs": [],
   "source": [
    "df_full_train,df_test = train_test_split(df,test_size=0.15,random_state=810)\n",
    "df_train,df_df_val = train_test_split(df_full_train,test_size=0.15,random_state=810)"
   ]
  },
  {
   "cell_type": "code",
   "execution_count": 6,
   "metadata": {},
   "outputs": [
    {
     "name": "stdout",
     "output_type": "stream",
     "text": [
      "Dataset shape when train and validation is combined (7428, 75)\n",
      "Dataset shape of the test dataset (1311, 75)\n"
     ]
    }
   ],
   "source": [
    "print(\"Dataset shape when train and validation is combined\",df_full_train.shape)\n",
    "print(\"Dataset shape of the test dataset\",df_test.shape)"
   ]
  },
  {
   "cell_type": "markdown",
   "metadata": {},
   "source": [
    "## 2) Data Preprocessing"
   ]
  },
  {
   "cell_type": "code",
   "execution_count": 7,
   "metadata": {},
   "outputs": [
    {
     "data": {
      "text/html": [
       "<div>\n",
       "<style scoped>\n",
       "    .dataframe tbody tr th:only-of-type {\n",
       "        vertical-align: middle;\n",
       "    }\n",
       "\n",
       "    .dataframe tbody tr th {\n",
       "        vertical-align: top;\n",
       "    }\n",
       "\n",
       "    .dataframe thead th {\n",
       "        text-align: right;\n",
       "    }\n",
       "</style>\n",
       "<table border=\"1\" class=\"dataframe\">\n",
       "  <thead>\n",
       "    <tr style=\"text-align: right;\">\n",
       "      <th></th>\n",
       "      <th>5106</th>\n",
       "      <th>5961</th>\n",
       "      <th>7311</th>\n",
       "      <th>1213</th>\n",
       "      <th>2387</th>\n",
       "    </tr>\n",
       "  </thead>\n",
       "  <tbody>\n",
       "    <tr>\n",
       "      <th>id</th>\n",
       "      <td>1020339493261692070</td>\n",
       "      <td>991906029869083109</td>\n",
       "      <td>800065755352436194</td>\n",
       "      <td>1012266793074500896</td>\n",
       "      <td>29923896</td>\n",
       "    </tr>\n",
       "    <tr>\n",
       "      <th>listing_url</th>\n",
       "      <td>https://www.airbnb.com/rooms/1020339493261692070</td>\n",
       "      <td>https://www.airbnb.com/rooms/991906029869083109</td>\n",
       "      <td>https://www.airbnb.com/rooms/800065755352436194</td>\n",
       "      <td>https://www.airbnb.com/rooms/1012266793074500896</td>\n",
       "      <td>https://www.airbnb.com/rooms/29923896</td>\n",
       "    </tr>\n",
       "    <tr>\n",
       "      <th>scrape_id</th>\n",
       "      <td>20231212015436</td>\n",
       "      <td>20231212015436</td>\n",
       "      <td>20231212015436</td>\n",
       "      <td>20231212015436</td>\n",
       "      <td>20231212015436</td>\n",
       "    </tr>\n",
       "    <tr>\n",
       "      <th>last_scraped</th>\n",
       "      <td>2023-12-12</td>\n",
       "      <td>2023-12-12</td>\n",
       "      <td>2023-12-12</td>\n",
       "      <td>2023-12-12</td>\n",
       "      <td>2023-12-12</td>\n",
       "    </tr>\n",
       "    <tr>\n",
       "      <th>source</th>\n",
       "      <td>city scrape</td>\n",
       "      <td>previous scrape</td>\n",
       "      <td>city scrape</td>\n",
       "      <td>city scrape</td>\n",
       "      <td>city scrape</td>\n",
       "    </tr>\n",
       "    <tr>\n",
       "      <th>...</th>\n",
       "      <td>...</td>\n",
       "      <td>...</td>\n",
       "      <td>...</td>\n",
       "      <td>...</td>\n",
       "      <td>...</td>\n",
       "    </tr>\n",
       "    <tr>\n",
       "      <th>calculated_host_listings_count</th>\n",
       "      <td>2</td>\n",
       "      <td>1</td>\n",
       "      <td>1</td>\n",
       "      <td>1</td>\n",
       "      <td>3</td>\n",
       "    </tr>\n",
       "    <tr>\n",
       "      <th>calculated_host_listings_count_entire_homes</th>\n",
       "      <td>2</td>\n",
       "      <td>1</td>\n",
       "      <td>1</td>\n",
       "      <td>1</td>\n",
       "      <td>0</td>\n",
       "    </tr>\n",
       "    <tr>\n",
       "      <th>calculated_host_listings_count_private_rooms</th>\n",
       "      <td>0</td>\n",
       "      <td>0</td>\n",
       "      <td>0</td>\n",
       "      <td>0</td>\n",
       "      <td>3</td>\n",
       "    </tr>\n",
       "    <tr>\n",
       "      <th>calculated_host_listings_count_shared_rooms</th>\n",
       "      <td>0</td>\n",
       "      <td>0</td>\n",
       "      <td>0</td>\n",
       "      <td>0</td>\n",
       "      <td>0</td>\n",
       "    </tr>\n",
       "    <tr>\n",
       "      <th>reviews_per_month</th>\n",
       "      <td>NaN</td>\n",
       "      <td>1.05</td>\n",
       "      <td>0.59</td>\n",
       "      <td>4.74</td>\n",
       "      <td>3.51</td>\n",
       "    </tr>\n",
       "  </tbody>\n",
       "</table>\n",
       "<p>75 rows × 5 columns</p>\n",
       "</div>"
      ],
      "text/plain": [
       "                                                                                          5106  \\\n",
       "id                                                                         1020339493261692070   \n",
       "listing_url                                   https://www.airbnb.com/rooms/1020339493261692070   \n",
       "scrape_id                                                                       20231212015436   \n",
       "last_scraped                                                                        2023-12-12   \n",
       "source                                                                             city scrape   \n",
       "...                                                                                        ...   \n",
       "calculated_host_listings_count                                                               2   \n",
       "calculated_host_listings_count_entire_homes                                                  2   \n",
       "calculated_host_listings_count_private_rooms                                                 0   \n",
       "calculated_host_listings_count_shared_rooms                                                  0   \n",
       "reviews_per_month                                                                          NaN   \n",
       "\n",
       "                                                                                         5961  \\\n",
       "id                                                                         991906029869083109   \n",
       "listing_url                                   https://www.airbnb.com/rooms/991906029869083109   \n",
       "scrape_id                                                                      20231212015436   \n",
       "last_scraped                                                                       2023-12-12   \n",
       "source                                                                        previous scrape   \n",
       "...                                                                                       ...   \n",
       "calculated_host_listings_count                                                              1   \n",
       "calculated_host_listings_count_entire_homes                                                 1   \n",
       "calculated_host_listings_count_private_rooms                                                0   \n",
       "calculated_host_listings_count_shared_rooms                                                 0   \n",
       "reviews_per_month                                                                        1.05   \n",
       "\n",
       "                                                                                         7311  \\\n",
       "id                                                                         800065755352436194   \n",
       "listing_url                                   https://www.airbnb.com/rooms/800065755352436194   \n",
       "scrape_id                                                                      20231212015436   \n",
       "last_scraped                                                                       2023-12-12   \n",
       "source                                                                            city scrape   \n",
       "...                                                                                       ...   \n",
       "calculated_host_listings_count                                                              1   \n",
       "calculated_host_listings_count_entire_homes                                                 1   \n",
       "calculated_host_listings_count_private_rooms                                                0   \n",
       "calculated_host_listings_count_shared_rooms                                                 0   \n",
       "reviews_per_month                                                                        0.59   \n",
       "\n",
       "                                                                                          1213  \\\n",
       "id                                                                         1012266793074500896   \n",
       "listing_url                                   https://www.airbnb.com/rooms/1012266793074500896   \n",
       "scrape_id                                                                       20231212015436   \n",
       "last_scraped                                                                        2023-12-12   \n",
       "source                                                                             city scrape   \n",
       "...                                                                                        ...   \n",
       "calculated_host_listings_count                                                               1   \n",
       "calculated_host_listings_count_entire_homes                                                  1   \n",
       "calculated_host_listings_count_private_rooms                                                 0   \n",
       "calculated_host_listings_count_shared_rooms                                                  0   \n",
       "reviews_per_month                                                                         4.74   \n",
       "\n",
       "                                                                               2387  \n",
       "id                                                                         29923896  \n",
       "listing_url                                   https://www.airbnb.com/rooms/29923896  \n",
       "scrape_id                                                            20231212015436  \n",
       "last_scraped                                                             2023-12-12  \n",
       "source                                                                  city scrape  \n",
       "...                                                                             ...  \n",
       "calculated_host_listings_count                                                    3  \n",
       "calculated_host_listings_count_entire_homes                                       0  \n",
       "calculated_host_listings_count_private_rooms                                      3  \n",
       "calculated_host_listings_count_shared_rooms                                       0  \n",
       "reviews_per_month                                                              3.51  \n",
       "\n",
       "[75 rows x 5 columns]"
      ]
     },
     "execution_count": 7,
     "metadata": {},
     "output_type": "execute_result"
    }
   ],
   "source": [
    "df_full_train.head().T"
   ]
  },
  {
   "cell_type": "code",
   "execution_count": 8,
   "metadata": {},
   "outputs": [
    {
     "data": {
      "text/plain": [
       "Index(['id', 'listing_url', 'scrape_id', 'last_scraped', 'source', 'name',\n",
       "       'description', 'neighborhood_overview', 'picture_url', 'host_id',\n",
       "       'host_url', 'host_name', 'host_since', 'host_location', 'host_about',\n",
       "       'host_response_time', 'host_response_rate', 'host_acceptance_rate',\n",
       "       'host_is_superhost', 'host_thumbnail_url', 'host_picture_url',\n",
       "       'host_neighbourhood', 'host_listings_count',\n",
       "       'host_total_listings_count', 'host_verifications',\n",
       "       'host_has_profile_pic', 'host_identity_verified', 'neighbourhood',\n",
       "       'neighbourhood_cleansed', 'neighbourhood_group_cleansed', 'latitude',\n",
       "       'longitude', 'property_type', 'room_type', 'accommodates', 'bathrooms',\n",
       "       'bathrooms_text', 'bedrooms', 'beds', 'amenities', 'price',\n",
       "       'minimum_nights', 'maximum_nights', 'minimum_minimum_nights',\n",
       "       'maximum_minimum_nights', 'minimum_maximum_nights',\n",
       "       'maximum_maximum_nights', 'minimum_nights_avg_ntm',\n",
       "       'maximum_nights_avg_ntm', 'calendar_updated', 'has_availability',\n",
       "       'availability_30', 'availability_60', 'availability_90',\n",
       "       'availability_365', 'calendar_last_scraped', 'number_of_reviews',\n",
       "       'number_of_reviews_ltm', 'number_of_reviews_l30d', 'first_review',\n",
       "       'last_review', 'review_scores_rating', 'review_scores_accuracy',\n",
       "       'review_scores_cleanliness', 'review_scores_checkin',\n",
       "       'review_scores_communication', 'review_scores_location',\n",
       "       'review_scores_value', 'license', 'instant_bookable',\n",
       "       'calculated_host_listings_count',\n",
       "       'calculated_host_listings_count_entire_homes',\n",
       "       'calculated_host_listings_count_private_rooms',\n",
       "       'calculated_host_listings_count_shared_rooms', 'reviews_per_month'],\n",
       "      dtype='object')"
      ]
     },
     "execution_count": 8,
     "metadata": {},
     "output_type": "execute_result"
    }
   ],
   "source": [
    "df_full_train.columns"
   ]
  },
  {
   "cell_type": "code",
   "execution_count": 9,
   "metadata": {},
   "outputs": [
    {
     "name": "stdout",
     "output_type": "stream",
     "text": [
      "34\n",
      "['listing_url', 'last_scraped', 'source', 'name', 'neighborhood_overview', 'picture_url', 'host_url', 'host_name', 'host_since', 'host_location', 'host_about', 'host_response_time', 'host_response_rate', 'host_acceptance_rate', 'host_is_superhost', 'host_thumbnail_url', 'host_picture_url', 'host_neighbourhood', 'host_verifications', 'host_has_profile_pic', 'host_identity_verified', 'neighbourhood', 'neighbourhood_cleansed', 'property_type', 'room_type', 'bathrooms_text', 'amenities', 'price', 'has_availability', 'calendar_last_scraped', 'first_review', 'last_review', 'license', 'instant_bookable']\n"
     ]
    }
   ],
   "source": [
    "cat_features = list((df_full_train.dtypes[df_full_train.dtypes==\"object\"]).index)\n",
    "print(len(cat_features))\n",
    "print(cat_features)"
   ]
  },
  {
   "cell_type": "code",
   "execution_count": 10,
   "metadata": {},
   "outputs": [],
   "source": [
    "df_full_train.columns = df_full_train.columns.str.replace(\" \",\"_\").str.lower()\n",
    "for col in cat_features:\n",
    "    df_full_train[col] = df_full_train[col].str.replace(\" \",\"_\").str.lower()"
   ]
  },
  {
   "cell_type": "code",
   "execution_count": 11,
   "metadata": {},
   "outputs": [
    {
     "name": "stdout",
     "output_type": "stream",
     "text": [
      "75\n"
     ]
    }
   ],
   "source": [
    "all_features = list(df_full_train.columns)\n",
    "print(len(all_features))"
   ]
  },
  {
   "cell_type": "code",
   "execution_count": 12,
   "metadata": {},
   "outputs": [
    {
     "name": "stdout",
     "output_type": "stream",
     "text": [
      "id\n",
      "7428\n",
      "[1020339493261692070  991906029869083109  800065755352436194\n",
      " 1012266793074500896            29923896]\n",
      "----------------------------------------------------------------------------------\n",
      "listing_url\n",
      "7428\n",
      "['https://www.airbnb.com/rooms/1020339493261692070'\n",
      " 'https://www.airbnb.com/rooms/991906029869083109'\n",
      " 'https://www.airbnb.com/rooms/800065755352436194'\n",
      " 'https://www.airbnb.com/rooms/1012266793074500896'\n",
      " 'https://www.airbnb.com/rooms/29923896']\n",
      "----------------------------------------------------------------------------------\n",
      "scrape_id\n",
      "1\n",
      "[20231212015436]\n",
      "----------------------------------------------------------------------------------\n",
      "last_scraped\n",
      "2\n",
      "['2023-12-12' '2023-12-13']\n",
      "----------------------------------------------------------------------------------\n",
      "source\n",
      "2\n",
      "['city_scrape' 'previous_scrape']\n",
      "----------------------------------------------------------------------------------\n",
      "name\n",
      "3256\n",
      "['rental_unit_in_amsterdam_·_★new_·_1_bedroom_·_1_bed_·_1_bath'\n",
      " 'rental_unit_in_amsterdam_·_1_bedroom_·_1_bed_·_1.5_baths'\n",
      " 'rental_unit_in_amsterdam_·_★5.0_·_1_bedroom_·_1_bed_·_1_bath'\n",
      " 'rental_unit_in_amsterdam_·_★4.67_·_1_bedroom_·_2_beds_·_1_bath'\n",
      " 'bed_and_breakfast_in_amsterdam_·_★4.84_·_studio_·_1_bed_·_1_private_bath']\n",
      "----------------------------------------------------------------------------------\n",
      "description\n",
      "0\n",
      "[nan]\n",
      "----------------------------------------------------------------------------------\n",
      "neighborhood_overview\n",
      "4267\n",
      "[nan\n",
      " \"amsterdam_–_oostelijke_eilanden<br_/><br_/>where_water_and_modern_architecture_meet<br_/>surrounded_by_glistening_water_on_all_sides,_the_oostelijke_eilanden_(eastern_docklands)_are_a_delight_to_behold._as_the_maritime_museum_(scheepvaartmuseum)_recalls_the_sea_pioneers_of_the_past,_their_adventurous_spirits_live_on_in_its_original_modern_architecture_and_historic_warehouses_repurposed_into_contemporary_hotspots.<br_/><br_/><br_/><br_/>amsterdam_centrum_-_city_center_+_canal_district<br_/>in_addition_to_the_world-famous_historic_canal_ring,_amsterdam's_city_centre_district_('centrum')_is_home_to_a_host_of_renowned_museums,_charming_and_high-end_shopping_areas,_fantastic_culture_and_entertainment.<br_/><br_/>amsterdam’s_renowned_art_and_culture_and_top_shopping<br_/>in_amsterdam’s_centre_you_will,_of_course,_find_the_magnificent_canal_ring,_but_there_is_so_much_more_besides._the_inner_city,_for_instance,_is_bursting_with_interesting_museums,_sometimes_hidden_behind_beautiful_canal-side_\"\n",
      " 'it’s_luxurious_part_of_amsterdam_center,_called_jordaan._surrounded_with_a_lot_of_cafes_and_restaurants,_but_at_the_same_time_very_quite_area_for_sleeping._close_to_all_the_‘must_see’_locations.'\n",
      " 'the_jordaan_is_one_of_the_oldest_districts_of_amsterdam_and_where_the_real”amsterdammer”_are_from._the_best_features_of_the_city_are_within_walking_distance,_making_it_easier_to_get_around,_tram,bus_parking_are_very_close_to_the_hotel.<br_/>locals_will_recommend_that_you_take_a_stroll_along_the_canals_in_the_evening._it_is_fabulous.<br_/>the_famous_9_streets_(9_straatjes)_is_only_a_2-minute_walk_away._here_you_will_find_all_kinds_of_small_shops,_cafes_and_restaurants._the_lively_leidseplein_where_all_bars_/_cafe_and__nightlife,_is__300m_away,__you_could_bike_to_the_red_light_districts_or_take_a_lovely_stroll_through_the_city._the_elandsgracht_is_a_2-minute_walk_away,_here_you_can_find_good_restaurants_and_supermarkets._a_5-minute_walk_away_is_museumplein,_the_area_that_houses_the_rijksmuseum,_stedelijk_museum_or_the_van_gogh_museum._there_are_many_tourist_attractions_in_that_neighborhood_and_also_our_beautiful_concert_theatre._you_could_also_find_one_of_our_most_exclusive_shopping_stre'\n",
      " 'amsterdam_west_has_lots_to_offer:_bars,_restaurants,_cinema’s._the_food_hall_in_amsterdam_west_is_only_10_minutes_cycling,_jordaan_15_minutes,_central_station_20_minutes._dam_square_15_min._<br_/>there_is_a_nice_restaurant_at_walking_distance_which_is_open_for_breakfast,_lunch_and_dinner_(boes_&_beis)._also_a_small_supermarket_and_a_bakery_only_2_minutes_waking._the_neighbourhood_is_quiet,_family_friendly_and_public_transport_is_very_close_(metro,_tram,_bus).<br_/>only_30_minutes_from_schiphol_airport_by_train_and_15_min_with_uber']\n",
      "----------------------------------------------------------------------------------\n",
      "picture_url\n",
      "7364\n",
      "['https://a0.muscache.com/pictures/miso/hosting-1020339493261692070/original/018762ec-1f19-4a18-9933-1e31be1d04c5.jpeg'\n",
      " 'https://a0.muscache.com/pictures/miso/hosting-991906029869083109/original/2270b9c5-0ded-43e0-9ee6-709487efdb2a.jpeg'\n",
      " 'https://a0.muscache.com/pictures/d25591ec-e4f6-48d3-9db3-3ad6e960e952.jpg'\n",
      " 'https://a0.muscache.com/pictures/miso/hosting-1012266793074500896/original/23e1cd08-9a95-475c-bd9b-7649ebd531cd.jpeg'\n",
      " 'https://a0.muscache.com/pictures/772eff3a-1171-4711-898e-7077763e80af.jpg']\n",
      "----------------------------------------------------------------------------------\n",
      "host_id\n",
      "6586\n",
      "[528387004  22880012  14055367  34245886 156790830]\n",
      "----------------------------------------------------------------------------------\n",
      "host_url\n",
      "6586\n",
      "['https://www.airbnb.com/users/show/528387004'\n",
      " 'https://www.airbnb.com/users/show/22880012'\n",
      " 'https://www.airbnb.com/users/show/14055367'\n",
      " 'https://www.airbnb.com/users/show/34245886'\n",
      " 'https://www.airbnb.com/users/show/156790830']\n",
      "----------------------------------------------------------------------------------\n",
      "host_name\n",
      "2958\n",
      "['robin' 'valerie' 'hannah' 'joey' 'mila']\n",
      "----------------------------------------------------------------------------------\n",
      "host_since\n",
      "2962\n",
      "['2023-07-28' '2014-10-23' '2014-04-08' '2015-05-26' '2017-10-30']\n",
      "----------------------------------------------------------------------------------\n",
      "host_location\n",
      "156\n",
      "['amsterdam,_netherlands' 'netherlands' nan 'amstelveen,_netherlands'\n",
      " 'haarlem,_netherlands']\n",
      "----------------------------------------------------------------------------------\n",
      "host_about\n",
      "3452\n",
      "[nan\n",
      " 'i_practice_law,_love_travelling,_art,_history,_food,_reading_and_getting_to_know_other_countries_and_cultures._\\r\\n\\r\\ni_am_always_open_to_suggestions_for_activities,_restaurants_or_cafe’s_in_your_hometown!_\\r\\n\\r\\n'\n",
      " 'amsterdammer_who_loves_to_travel_and_is_trying_her_best_to_do_this_in_a_more_sustainable_way_these_days.\\n\\nairbnb_enthusiast_since_2014_and_happy_to_now_finally_have_the_opportunity_to_welcome_guests_in_my_own_home_and_share_the_love_for_this_amazing_city.'\n",
      " 'i_am_a_nice_and_helpfully_guy,_i_like_to_welcome_you_in_are_house_and_make_your_welcome._i_rent_boats_on_the_canals_and_have_been_managing_hotels_before\\r\\n\\r\\ni_am_using_airbnb_alot_myself_when_i_am_on_holiday,_so_i_know_how_nice_it_is.\\r\\n\\r\\nplease_ask_me_what_ever_you_want.'\n",
      " 'hi_everyone!_\\r\\nmy_name_is_mila._i_love_to_travel_and_meet_new_people_and_cultures,_but_in_amsterdam_i_am_going_to_be_your_host_and_help_you_to_fully_enjoy_the_city!__\\nas_a_quite_communicative_person_be_sure_that_i_am_going_to_give_you_a_lot_of_informations,_but_at_the_same_time,_feel_free_to_contact_me_for_any_extra_help_and_advice._\\nbesides_traveling,_fashion_and_music_are_my_passions._music_is_a_powerful_thing_present_in_every_segment_of_our_lives_and_fashion_is_for_me_the_way_to_express_myself_by_giving_me_a_lot_of_freedom_to_experiment_what_is_perfectly_in_balance_with_my_creative_nature._\\n']\n",
      "----------------------------------------------------------------------------------\n",
      "host_response_time\n",
      "4\n",
      "['within_a_day' 'within_an_hour' nan 'within_a_few_hours'\n",
      " 'a_few_days_or_more']\n",
      "----------------------------------------------------------------------------------\n",
      "host_response_rate\n",
      "56\n",
      "['100%' nan '87%' '20%' '50%']\n",
      "----------------------------------------------------------------------------------\n",
      "host_acceptance_rate\n",
      "99\n",
      "['67%' '100%' '71%' '88%' '99%']\n",
      "----------------------------------------------------------------------------------\n",
      "host_is_superhost\n",
      "2\n",
      "['f' 't' nan]\n",
      "----------------------------------------------------------------------------------\n",
      "host_thumbnail_url\n",
      "6502\n",
      "['https://a0.muscache.com/im/pictures/user/user-528387004/original/d57a6806-e1be-40b5-8371-a0c346afe0dd.jpeg?aki_policy=profile_small'\n",
      " 'https://a0.muscache.com/im/pictures/user/user-22880012/original/6fa79c36-8610-48fe-8c9e-34828bb9ef9f.jpeg?aki_policy=profile_small'\n",
      " 'https://a0.muscache.com/im/pictures/user/384819a5-b78a-46a4-a085-1474b2b6b828.jpg?aki_policy=profile_small'\n",
      " 'https://a0.muscache.com/im/pictures/user/user-34245886/original/f061509f-7604-4c30-870a-6b613e025942.jpeg?aki_policy=profile_small'\n",
      " 'https://a0.muscache.com/im/pictures/user/eb9113f8-b9e4-44f1-8e0c-0ddc63c05ada.jpg?aki_policy=profile_small']\n",
      "----------------------------------------------------------------------------------\n",
      "host_picture_url\n",
      "6502\n",
      "['https://a0.muscache.com/im/pictures/user/user-528387004/original/d57a6806-e1be-40b5-8371-a0c346afe0dd.jpeg?aki_policy=profile_x_medium'\n",
      " 'https://a0.muscache.com/im/pictures/user/user-22880012/original/6fa79c36-8610-48fe-8c9e-34828bb9ef9f.jpeg?aki_policy=profile_x_medium'\n",
      " 'https://a0.muscache.com/im/pictures/user/384819a5-b78a-46a4-a085-1474b2b6b828.jpg?aki_policy=profile_x_medium'\n",
      " 'https://a0.muscache.com/im/pictures/user/user-34245886/original/f061509f-7604-4c30-870a-6b613e025942.jpeg?aki_policy=profile_x_medium'\n",
      " 'https://a0.muscache.com/im/pictures/user/eb9113f8-b9e4-44f1-8e0c-0ddc63c05ada.jpg?aki_policy=profile_x_medium']\n",
      "----------------------------------------------------------------------------------\n",
      "host_neighbourhood\n",
      "61\n",
      "[nan 'jordaan' 'ijplein_en_vogelbuurt' 'rivierenbuurt' 'volewijck']\n",
      "----------------------------------------------------------------------------------\n",
      "host_listings_count\n",
      "32\n",
      "[2 1 4 5 6]\n",
      "----------------------------------------------------------------------------------\n",
      "host_total_listings_count\n",
      "46\n",
      "[2 1 8 5 4]\n",
      "----------------------------------------------------------------------------------\n",
      "host_verifications\n",
      "8\n",
      "[\"['email',_'phone']\" \"['phone']\" \"['email',_'phone',_'work_email']\" '[]'\n",
      " \"['phone',_'work_email']\"]\n",
      "----------------------------------------------------------------------------------\n",
      "host_has_profile_pic\n",
      "2\n",
      "['t' 'f']\n",
      "----------------------------------------------------------------------------------\n",
      "host_identity_verified\n",
      "2\n",
      "['t' 'f']\n",
      "----------------------------------------------------------------------------------\n",
      "neighbourhood\n",
      "39\n",
      "[nan 'amsterdam,_noord-holland,_netherlands' 'amsterdam,_nh,_netherlands'\n",
      " 'amsterdam,_north_holland,_netherlands'\n",
      " 'amsterdam-zuidoost,_north_holland,_netherlands']\n",
      "----------------------------------------------------------------------------------\n",
      "neighbourhood_cleansed\n",
      "22\n",
      "['ijburg_-_zeeburgereiland' 'centrum-oost' 'de_baarsjes_-_oud-west'\n",
      " 'oud-oost' 'centrum-west']\n",
      "----------------------------------------------------------------------------------\n",
      "neighbourhood_group_cleansed\n",
      "0\n",
      "[nan]\n",
      "----------------------------------------------------------------------------------\n",
      "latitude\n",
      "5525\n",
      "[52.36191354 52.36876046 52.36483281 52.3516165  52.37988   ]\n",
      "----------------------------------------------------------------------------------\n",
      "longitude\n",
      "6295\n",
      "[4.98808331 4.92842186 4.87674766 4.9124254  4.88459   ]\n",
      "----------------------------------------------------------------------------------\n",
      "property_type\n",
      "62\n",
      "['entire_rental_unit' 'private_room_in_bed_and_breakfast'\n",
      " 'entire_guesthouse' 'entire_condo' 'private_room_in_rental_unit']\n",
      "----------------------------------------------------------------------------------\n",
      "room_type\n",
      "4\n",
      "['entire_home/apt' 'private_room' 'hotel_room' 'shared_room']\n",
      "----------------------------------------------------------------------------------\n",
      "accommodates\n",
      "13\n",
      "[2 3 7 4 1]\n",
      "----------------------------------------------------------------------------------\n",
      "bathrooms\n",
      "0\n",
      "[nan]\n",
      "----------------------------------------------------------------------------------\n",
      "bathrooms_text\n",
      "24\n",
      "['1_bath' '1.5_baths' '1_private_bath' '1_shared_bath' '1.5_shared_baths']\n",
      "----------------------------------------------------------------------------------\n",
      "bedrooms\n",
      "0\n",
      "[nan]\n",
      "----------------------------------------------------------------------------------\n",
      "beds\n",
      "21\n",
      "[1. 2. 5. 4. 3.]\n",
      "----------------------------------------------------------------------------------\n",
      "amenities\n",
      "1\n",
      "['[]']\n",
      "----------------------------------------------------------------------------------\n",
      "price\n",
      "589\n",
      "['$160.00' '$240.00' '$245.00' '$129.00' '$118.00']\n",
      "----------------------------------------------------------------------------------\n",
      "minimum_nights\n",
      "48\n",
      "[2 3 1 4 5]\n",
      "----------------------------------------------------------------------------------\n",
      "maximum_nights\n",
      "97\n",
      "[ 365   20   14 1125    7]\n",
      "----------------------------------------------------------------------------------\n",
      "minimum_minimum_nights\n",
      "46\n",
      "[2 3 1 4 5]\n",
      "----------------------------------------------------------------------------------\n",
      "maximum_minimum_nights\n",
      "53\n",
      "[2 3 1 4 5]\n",
      "----------------------------------------------------------------------------------\n",
      "minimum_maximum_nights\n",
      "92\n",
      "[ 365   20   14 1125    7]\n",
      "----------------------------------------------------------------------------------\n",
      "maximum_maximum_nights\n",
      "92\n",
      "[ 365   20   14 1125    7]\n",
      "----------------------------------------------------------------------------------\n",
      "minimum_nights_avg_ntm\n",
      "157\n",
      "[2.  3.  1.  2.3 4. ]\n",
      "----------------------------------------------------------------------------------\n",
      "maximum_nights_avg_ntm\n",
      "197\n",
      "[ 365.   20.   14. 1125.    7.]\n",
      "----------------------------------------------------------------------------------\n",
      "calendar_updated\n",
      "0\n",
      "[nan]\n",
      "----------------------------------------------------------------------------------\n",
      "has_availability\n",
      "2\n",
      "['t' 'f' nan]\n",
      "----------------------------------------------------------------------------------\n",
      "availability_30\n",
      "31\n",
      "[23  0  7 20  5]\n",
      "----------------------------------------------------------------------------------\n",
      "availability_60\n",
      "61\n",
      "[53  0  7 35 15]\n",
      "----------------------------------------------------------------------------------\n",
      "availability_90\n",
      "91\n",
      "[83  0  7 65 26]\n",
      "----------------------------------------------------------------------------------\n",
      "availability_365\n",
      "364\n",
      "[173   0  10  52 306]\n",
      "----------------------------------------------------------------------------------\n",
      "calendar_last_scraped\n",
      "2\n",
      "['2023-12-12' '2023-12-13']\n",
      "----------------------------------------------------------------------------------\n",
      "number_of_reviews\n",
      "466\n",
      "[  0   2   6 214 263]\n",
      "----------------------------------------------------------------------------------\n",
      "number_of_reviews_ltm\n",
      "138\n",
      "[ 0  2  6 59 37]\n",
      "----------------------------------------------------------------------------------\n",
      "number_of_reviews_l30d\n",
      "26\n",
      "[ 0  4  2  3 11]\n",
      "----------------------------------------------------------------------------------\n",
      "first_review\n",
      "2373\n",
      "[nan '2023-10-17' '2023-02-12' '2023-11-05' '2018-12-09']\n",
      "----------------------------------------------------------------------------------\n",
      "last_review\n",
      "991\n",
      "[nan '2023-10-22' '2023-08-30' '2023-12-08' '2023-11-17']\n",
      "----------------------------------------------------------------------------------\n",
      "review_scores_rating\n",
      "114\n",
      "[ nan 5.   4.67 4.84 4.44]\n",
      "----------------------------------------------------------------------------------\n",
      "review_scores_accuracy\n",
      "105\n",
      "[ nan 4.5  5.   4.57 4.89]\n",
      "----------------------------------------------------------------------------------\n",
      "review_scores_cleanliness\n",
      "138\n",
      "[ nan 4.5  5.   4.9  4.48]\n",
      "----------------------------------------------------------------------------------\n",
      "review_scores_checkin\n",
      "104\n",
      "[ nan 5.   4.87 4.49 4.99]\n",
      "----------------------------------------------------------------------------------\n",
      "review_scores_communication\n",
      "102\n",
      "[ nan 5.   4.93 4.57 4.95]\n",
      "----------------------------------------------------------------------------------\n",
      "review_scores_location\n",
      "113\n",
      "[ nan 5.   4.89 4.78 4.77]\n",
      "----------------------------------------------------------------------------------\n",
      "review_scores_value\n",
      "135\n",
      "[ nan 5.   4.5  4.71 4.64]\n",
      "----------------------------------------------------------------------------------\n",
      "license\n",
      "6504\n",
      "['03632007486e23833be2' '0363_9ab3_f7a8_0010_8f7a'\n",
      " '0363_8da9_866d_1f5b_edea' '0363_0050_e05a_9e0e_809e'\n",
      " '0363_d7d4_c192_ee8b_7125']\n",
      "----------------------------------------------------------------------------------\n",
      "instant_bookable\n",
      "2\n",
      "['f' 't']\n",
      "----------------------------------------------------------------------------------\n",
      "calculated_host_listings_count\n",
      "17\n",
      "[2 1 3 5 4]\n",
      "----------------------------------------------------------------------------------\n",
      "calculated_host_listings_count_entire_homes\n",
      "14\n",
      "[2 1 0 5 4]\n",
      "----------------------------------------------------------------------------------\n",
      "calculated_host_listings_count_private_rooms\n",
      "15\n",
      "[0 3 1 2 4]\n",
      "----------------------------------------------------------------------------------\n",
      "calculated_host_listings_count_shared_rooms\n",
      "6\n",
      "[0 3 8 1 4]\n",
      "----------------------------------------------------------------------------------\n",
      "reviews_per_month\n",
      "621\n",
      "[ nan 1.05 0.59 4.74 3.51]\n",
      "----------------------------------------------------------------------------------\n"
     ]
    }
   ],
   "source": [
    "for col in all_features:\n",
    "    print(col)\n",
    "    print(df_full_train[col].nunique())\n",
    "    print(df_full_train[col].unique()[:5])\n",
    "    print(\"----------------------------------------------------------------------------------\")"
   ]
  },
  {
   "cell_type": "code",
   "execution_count": 13,
   "metadata": {},
   "outputs": [],
   "source": [
    "#Few columns have information regarding scrap so they are irrelevant to the problem statement.\n",
    "#columns related to scrap are :  scrape_id, last_scraped, source, calendar_last_scraped"
   ]
  },
  {
   "cell_type": "code",
   "execution_count": 14,
   "metadata": {},
   "outputs": [],
   "source": [
    "#Rows having alot of unique value and does not contain much information regarding the pricing of the house are irrelevant as well.\n",
    "#Columns are : id, listing_url, name, description, picture_url, host_id, host_url, host_name, host_location, host_thumbnail_url, host_picture_url, host_verifications, host_has_profile_pic, host_identity_verified,neighbourhood_group_cleansed, amenities\n",
    "                #bathrooms,minimum_minimum_nights, maximum_minimum_nights, minimum_maximum_nights, maximum_maximum_nights, minimum_nights_avg_ntm, maximum_nights_avg_ntm, calendar_updated\n",
    "                #has_availability, availability_30, availability_60, availability_90, availability_365, first_review, last_review, license, calculated_host_listings_count, calculated_host_listings_count_entire_homes,\n",
    "                #calculated_host_listings_count_private_rooms, calculated_host_listings_count_shared_rooms"
   ]
  },
  {
   "cell_type": "code",
   "execution_count": 15,
   "metadata": {},
   "outputs": [],
   "source": [
    "#Columns that might be interesting but not sure to be used or not\n",
    "#Columns : neighborhood_overview, host_about, host_response_rate, host_neighbourhood, host_listings_count, host_total_listings_count, property_type, maximum_nights, number_of_reviews_ltm, number_of_reviews_l30d,\n",
    "            #review_scores_accuracy, review_scores_cleanliness, review_scores_checkin, review_scores_communication, review_scores_location, review_scores_value, instant_bookable,  minimum_nights,host_acceptance_rate, reviews_per_month, "
   ]
  },
  {
   "cell_type": "code",
   "execution_count": 16,
   "metadata": {},
   "outputs": [],
   "source": [
    "#Columns to be used to model the problem statement\n",
    "#columns: host_since, host_is_superhost, neighbourhood_cleansed, latitude, longitude, room_type, accommodates, bathrooms_text, price, number_of_reviews, review_scores_rating  "
   ]
  },
  {
   "cell_type": "code",
   "execution_count": 32,
   "metadata": {},
   "outputs": [],
   "source": [
    "columns = [\"host_since\", \"host_is_superhost\",\"host_total_listings_count\",\"neighbourhood_cleansed\", \"latitude\", \"longitude\", \"room_type\", \"accommodates\", \"bathrooms_text\", \"beds\", \"price\", \"number_of_reviews\", \"review_scores_rating\",\"availability_365\",\"minimum_nights\"]\n",
    "df_filter_full_train = df_full_train[columns]"
   ]
  },
  {
   "cell_type": "code",
   "execution_count": 33,
   "metadata": {},
   "outputs": [
    {
     "data": {
      "text/html": [
       "<div>\n",
       "<style scoped>\n",
       "    .dataframe tbody tr th:only-of-type {\n",
       "        vertical-align: middle;\n",
       "    }\n",
       "\n",
       "    .dataframe tbody tr th {\n",
       "        vertical-align: top;\n",
       "    }\n",
       "\n",
       "    .dataframe thead th {\n",
       "        text-align: right;\n",
       "    }\n",
       "</style>\n",
       "<table border=\"1\" class=\"dataframe\">\n",
       "  <thead>\n",
       "    <tr style=\"text-align: right;\">\n",
       "      <th></th>\n",
       "      <th>5106</th>\n",
       "      <th>5961</th>\n",
       "      <th>7311</th>\n",
       "      <th>1213</th>\n",
       "      <th>2387</th>\n",
       "    </tr>\n",
       "  </thead>\n",
       "  <tbody>\n",
       "    <tr>\n",
       "      <th>host_since</th>\n",
       "      <td>2023-07-28</td>\n",
       "      <td>2014-10-23</td>\n",
       "      <td>2014-04-08</td>\n",
       "      <td>2015-05-26</td>\n",
       "      <td>2017-10-30</td>\n",
       "    </tr>\n",
       "    <tr>\n",
       "      <th>host_is_superhost</th>\n",
       "      <td>f</td>\n",
       "      <td>f</td>\n",
       "      <td>f</td>\n",
       "      <td>f</td>\n",
       "      <td>t</td>\n",
       "    </tr>\n",
       "    <tr>\n",
       "      <th>host_total_listings_count</th>\n",
       "      <td>2</td>\n",
       "      <td>1</td>\n",
       "      <td>1</td>\n",
       "      <td>8</td>\n",
       "      <td>5</td>\n",
       "    </tr>\n",
       "    <tr>\n",
       "      <th>neighbourhood_cleansed</th>\n",
       "      <td>ijburg_-_zeeburgereiland</td>\n",
       "      <td>centrum-oost</td>\n",
       "      <td>de_baarsjes_-_oud-west</td>\n",
       "      <td>oud-oost</td>\n",
       "      <td>centrum-west</td>\n",
       "    </tr>\n",
       "    <tr>\n",
       "      <th>latitude</th>\n",
       "      <td>52.361914</td>\n",
       "      <td>52.36876</td>\n",
       "      <td>52.364833</td>\n",
       "      <td>52.351616</td>\n",
       "      <td>52.37988</td>\n",
       "    </tr>\n",
       "    <tr>\n",
       "      <th>longitude</th>\n",
       "      <td>4.988083</td>\n",
       "      <td>4.928422</td>\n",
       "      <td>4.876748</td>\n",
       "      <td>4.912425</td>\n",
       "      <td>4.88459</td>\n",
       "    </tr>\n",
       "    <tr>\n",
       "      <th>room_type</th>\n",
       "      <td>entire_home/apt</td>\n",
       "      <td>entire_home/apt</td>\n",
       "      <td>entire_home/apt</td>\n",
       "      <td>entire_home/apt</td>\n",
       "      <td>private_room</td>\n",
       "    </tr>\n",
       "    <tr>\n",
       "      <th>accommodates</th>\n",
       "      <td>2</td>\n",
       "      <td>2</td>\n",
       "      <td>2</td>\n",
       "      <td>3</td>\n",
       "      <td>2</td>\n",
       "    </tr>\n",
       "    <tr>\n",
       "      <th>bathrooms_text</th>\n",
       "      <td>1_bath</td>\n",
       "      <td>1.5_baths</td>\n",
       "      <td>1_bath</td>\n",
       "      <td>1_bath</td>\n",
       "      <td>1_private_bath</td>\n",
       "    </tr>\n",
       "    <tr>\n",
       "      <th>beds</th>\n",
       "      <td>1.0</td>\n",
       "      <td>1.0</td>\n",
       "      <td>1.0</td>\n",
       "      <td>2.0</td>\n",
       "      <td>1.0</td>\n",
       "    </tr>\n",
       "    <tr>\n",
       "      <th>price</th>\n",
       "      <td>$160.00</td>\n",
       "      <td>$240.00</td>\n",
       "      <td>$245.00</td>\n",
       "      <td>$129.00</td>\n",
       "      <td>$118.00</td>\n",
       "    </tr>\n",
       "    <tr>\n",
       "      <th>number_of_reviews</th>\n",
       "      <td>0</td>\n",
       "      <td>2</td>\n",
       "      <td>6</td>\n",
       "      <td>6</td>\n",
       "      <td>214</td>\n",
       "    </tr>\n",
       "    <tr>\n",
       "      <th>review_scores_rating</th>\n",
       "      <td>NaN</td>\n",
       "      <td>5.0</td>\n",
       "      <td>5.0</td>\n",
       "      <td>4.67</td>\n",
       "      <td>4.84</td>\n",
       "    </tr>\n",
       "    <tr>\n",
       "      <th>availability_365</th>\n",
       "      <td>173</td>\n",
       "      <td>0</td>\n",
       "      <td>10</td>\n",
       "      <td>52</td>\n",
       "      <td>306</td>\n",
       "    </tr>\n",
       "    <tr>\n",
       "      <th>minimum_nights</th>\n",
       "      <td>2</td>\n",
       "      <td>3</td>\n",
       "      <td>2</td>\n",
       "      <td>2</td>\n",
       "      <td>1</td>\n",
       "    </tr>\n",
       "  </tbody>\n",
       "</table>\n",
       "</div>"
      ],
      "text/plain": [
       "                                               5106             5961  \\\n",
       "host_since                               2023-07-28       2014-10-23   \n",
       "host_is_superhost                                 f                f   \n",
       "host_total_listings_count                         2                1   \n",
       "neighbourhood_cleansed     ijburg_-_zeeburgereiland     centrum-oost   \n",
       "latitude                                  52.361914         52.36876   \n",
       "longitude                                  4.988083         4.928422   \n",
       "room_type                           entire_home/apt  entire_home/apt   \n",
       "accommodates                                      2                2   \n",
       "bathrooms_text                               1_bath        1.5_baths   \n",
       "beds                                            1.0              1.0   \n",
       "price                                       $160.00          $240.00   \n",
       "number_of_reviews                                 0                2   \n",
       "review_scores_rating                            NaN              5.0   \n",
       "availability_365                                173                0   \n",
       "minimum_nights                                    2                3   \n",
       "\n",
       "                                             7311             1213  \\\n",
       "host_since                             2014-04-08       2015-05-26   \n",
       "host_is_superhost                               f                f   \n",
       "host_total_listings_count                       1                8   \n",
       "neighbourhood_cleansed     de_baarsjes_-_oud-west         oud-oost   \n",
       "latitude                                52.364833        52.351616   \n",
       "longitude                                4.876748         4.912425   \n",
       "room_type                         entire_home/apt  entire_home/apt   \n",
       "accommodates                                    2                3   \n",
       "bathrooms_text                             1_bath           1_bath   \n",
       "beds                                          1.0              2.0   \n",
       "price                                     $245.00          $129.00   \n",
       "number_of_reviews                               6                6   \n",
       "review_scores_rating                          5.0             4.67   \n",
       "availability_365                               10               52   \n",
       "minimum_nights                                  2                2   \n",
       "\n",
       "                                     2387  \n",
       "host_since                     2017-10-30  \n",
       "host_is_superhost                       t  \n",
       "host_total_listings_count               5  \n",
       "neighbourhood_cleansed       centrum-west  \n",
       "latitude                         52.37988  \n",
       "longitude                         4.88459  \n",
       "room_type                    private_room  \n",
       "accommodates                            2  \n",
       "bathrooms_text             1_private_bath  \n",
       "beds                                  1.0  \n",
       "price                             $118.00  \n",
       "number_of_reviews                     214  \n",
       "review_scores_rating                 4.84  \n",
       "availability_365                      306  \n",
       "minimum_nights                          1  "
      ]
     },
     "execution_count": 33,
     "metadata": {},
     "output_type": "execute_result"
    }
   ],
   "source": [
    "df_filter_full_train.head().T"
   ]
  },
  {
   "cell_type": "code",
   "execution_count": 34,
   "metadata": {},
   "outputs": [
    {
     "name": "stdout",
     "output_type": "stream",
     "text": [
      "Number of duplicate values in the dataset are 1\n"
     ]
    }
   ],
   "source": [
    "print(\"Number of duplicate values in the dataset are\", df_filter_full_train.duplicated().sum())\n",
    "df_filter_full_train.drop_duplicates(inplace=True)"
   ]
  },
  {
   "cell_type": "code",
   "execution_count": 35,
   "metadata": {},
   "outputs": [
    {
     "data": {
      "text/plain": [
       "host_since                     0\n",
       "host_is_superhost             42\n",
       "host_total_listings_count      0\n",
       "neighbourhood_cleansed         0\n",
       "latitude                       0\n",
       "longitude                      0\n",
       "room_type                      0\n",
       "accommodates                   0\n",
       "bathrooms_text                 6\n",
       "beds                          61\n",
       "price                        254\n",
       "number_of_reviews              0\n",
       "review_scores_rating         778\n",
       "availability_365               0\n",
       "minimum_nights                 0\n",
       "dtype: int64"
      ]
     },
     "execution_count": 35,
     "metadata": {},
     "output_type": "execute_result"
    }
   ],
   "source": [
    "df_filter_full_train.isna().sum()"
   ]
  },
  {
   "cell_type": "markdown",
   "metadata": {},
   "source": [
    "#### 2.1) Cleaning \"price\" column"
   ]
  },
  {
   "cell_type": "code",
   "execution_count": 36,
   "metadata": {},
   "outputs": [
    {
     "name": "stdout",
     "output_type": "stream",
     "text": [
      "Number of NaN values are  254\n"
     ]
    }
   ],
   "source": [
    "#Cleaning price column\n",
    "print(\"Number of NaN values are \", df_filter_full_train.price.isna().sum())\n",
    "df_filter_full_train.dropna(subset=['price'], inplace=True)\n",
    "def remove_dollar_sign(text):\n",
    "    text = str(text)\n",
    "    numeric_text = text.replace(\"$\",\"\").replace(\",\",\"\")\n",
    "    return float(numeric_text)\n",
    "df_filter_full_train.price =  df_filter_full_train[\"price\"].apply(remove_dollar_sign)"
   ]
  },
  {
   "cell_type": "markdown",
   "metadata": {},
   "source": [
    "#### 2.2) Cleaning \"bathroom_text\" column"
   ]
  },
  {
   "cell_type": "code",
   "execution_count": 37,
   "metadata": {},
   "outputs": [
    {
     "data": {
      "text/plain": [
       "6"
      ]
     },
     "execution_count": 37,
     "metadata": {},
     "output_type": "execute_result"
    }
   ],
   "source": [
    "df_filter_full_train.bathrooms_text.isna().sum()"
   ]
  },
  {
   "cell_type": "code",
   "execution_count": 38,
   "metadata": {},
   "outputs": [
    {
     "name": "stdout",
     "output_type": "stream",
     "text": [
      "Number of bed rooms count per bathroom number \n",
      " beds  bathrooms_text  \n",
      "1.0   1_bath              2132\n",
      "      1.5_baths            927\n",
      "      1_private_bath       408\n",
      "      1_shared_bath        200\n",
      "      1.5_shared_baths     109\n",
      "                          ... \n",
      "22.0  2.5_baths              1\n",
      "24.0  5.5_baths              3\n",
      "26.0  2.5_baths              1\n",
      "30.0  17_baths               1\n",
      "33.0  3_baths                1\n",
      "Name: count, Length: 102, dtype: int64\n",
      "-------------------------------------------------------------------------------------------------------------------------\n",
      "Number of beds in the Airbnb listing for which bathroom text is missing \n",
      " 312     1.0\n",
      "8173    1.0\n",
      "3845    1.0\n",
      "2811    1.0\n",
      "8319    3.0\n",
      "5611    4.0\n",
      "Name: beds, dtype: float64\n"
     ]
    }
   ],
   "source": [
    "print(\"Number of bed rooms count per bathroom number \\n\",df_filter_full_train.groupby(\"beds\").bathrooms_text.value_counts())\n",
    "print(\"-------------------------------------------------------------------------------------------------------------------------\")\n",
    "print(\"Number of beds in the Airbnb listing for which bathroom text is missing \\n\",df_filter_full_train[df_filter_full_train.bathrooms_text.isna()][\"beds\"])"
   ]
  },
  {
   "cell_type": "code",
   "execution_count": 39,
   "metadata": {},
   "outputs": [],
   "source": [
    "#Since the missing bathrooms text have smaller number of beds, hence number of beds is being filled in missing bathroom text\n",
    "df_filter_full_train[\"bathrooms_text\"].fillna(str(df_filter_full_train[\"beds\"]), inplace=True)"
   ]
  },
  {
   "cell_type": "code",
   "execution_count": 40,
   "metadata": {},
   "outputs": [],
   "source": [
    "#creating a new columns to check if the bathroom is shared or not and converting bathrooms_text into a float columns\n",
    "def bathroom_number(text):\n",
    "    text = str(text)\n",
    "    if \"half\" in text:\n",
    "        return 0.5\n",
    "    else:\n",
    "        number = re.findall(r'\\d+\\.\\d+|\\d+', text)\n",
    "    return float(number[0])\n",
    "df_filter_full_train[\"bathrooms\"] = df_filter_full_train[\"bathrooms_text\"].apply(bathroom_number)\n",
    "df_filter_full_train[\"private\"] = df_filter_full_train[\"bathrooms_text\"].apply(lambda x:0 if \"shared\" in str(x) else 1)"
   ]
  },
  {
   "cell_type": "markdown",
   "metadata": {},
   "source": [
    "#### 2.3) Cleaning \"host\" columns"
   ]
  },
  {
   "cell_type": "code",
   "execution_count": 41,
   "metadata": {},
   "outputs": [],
   "source": [
    "# Filling NAN values in super host column as normal host\n",
    "df_filter_full_train.host_is_superhost.fillna(\"f\",inplace = True)\n"
   ]
  },
  {
   "cell_type": "code",
   "execution_count": 44,
   "metadata": {},
   "outputs": [
    {
     "data": {
      "text/plain": [
       "dtype('O')"
      ]
     },
     "execution_count": 44,
     "metadata": {},
     "output_type": "execute_result"
    }
   ],
   "source": [
    "# Changing the \"host since\" column to number of days from today.\n",
    "df_filter_full_train[] = df_filter_full_train.host_since"
   ]
  },
  {
   "cell_type": "markdown",
   "metadata": {},
   "source": [
    "## 3)EDA "
   ]
  },
  {
   "cell_type": "markdown",
   "metadata": {},
   "source": [
    "#### 3.1) Neighbourhoods"
   ]
  },
  {
   "cell_type": "code",
   "execution_count": null,
   "metadata": {},
   "outputs": [],
   "source": [
    "nei_frequency = df_full_train[\"neighbourhood_cleansed\"].value_counts().sort_values(ascending=True)\n",
    "nei_frequency.plot.barh(figsize=(10,8),color = \"b\", width=0.5)\n",
    "plt.title(\"Number of listings by neighbourhood\", fontsize=15)\n",
    "plt.xlabel(\"Number of listings\",fontsize=10)\n",
    "plt.show()"
   ]
  },
  {
   "cell_type": "code",
   "execution_count": null,
   "metadata": {},
   "outputs": [],
   "source": [
    "lats = df_full_train[\"latitude\"].tolist()\n",
    "lons = df_full_train[\"longitude\"].tolist()\n",
    "locations = list(zip(lats,lons))\n",
    "map1 = folium.Map(location=[52.38, 4.9],zoom_start=11.5)\n",
    "FastMarkerCluster(data=locations).add_to(map1)\n",
    "map1"
   ]
  },
  {
   "cell_type": "code",
   "execution_count": null,
   "metadata": {},
   "outputs": [],
   "source": [
    "#most of the places are location near to the city centre"
   ]
  },
  {
   "cell_type": "code",
   "execution_count": null,
   "metadata": {},
   "outputs": [],
   "source": [
    "plt.figure(figsize=(10,6))\n",
    "sns.scatterplot(df_full_train.longitude,df_full_train.latitude,hue=df_full_train.neighbourhood_cleansed)\n",
    "plt.ioff()"
   ]
  },
  {
   "cell_type": "code",
   "execution_count": null,
   "metadata": {},
   "outputs": [],
   "source": [
    "feq = df_full_train[df_full_train['accommodates']==2]\n",
    "feq = feq.groupby('neighbourhood_cleansed')[\"price\"].mean().sort_values(ascending=True)\n",
    "feq.plot.barh(figsize=(10, 8), color='b', width=0.4)\n",
    "plt.title(\"Average daily price for a 2-persons accommodation\", fontsize=20)\n",
    "plt.xlabel('Average daily price (Euro)', fontsize=12)\n",
    "plt.ylabel(\"\")\n",
    "plt.show()"
   ]
  },
  {
   "cell_type": "markdown",
   "metadata": {},
   "source": [
    "#### 2.2) Room and property types"
   ]
  },
  {
   "cell_type": "code",
   "execution_count": null,
   "metadata": {},
   "outputs": [],
   "source": [
    "room_fre = df_full_train[\"room_type\"].value_counts().sort_values(ascending=True)\n",
    "room_fre.plot.barh(figsize=(15,3),width=0.5,color=[\"g\",\"b\",\"r\"])\n",
    "plt.xlabel(\"Number for listings for each type pf room\")\n",
    "plt.title(\"Room type listing in each category\")\n",
    "plt.show()"
   ]
  },
  {
   "cell_type": "code",
   "execution_count": null,
   "metadata": {},
   "outputs": [],
   "source": [
    "#Entire home/apt has the most listing while shared room and hotel room has hardly booked through airbnb so it has less listings"
   ]
  },
  {
   "cell_type": "code",
   "execution_count": null,
   "metadata": {},
   "outputs": [],
   "source": [
    "df_full_train.bathrooms_text.value_counts()"
   ]
  },
  {
   "cell_type": "code",
   "execution_count": null,
   "metadata": {},
   "outputs": [],
   "source": [
    "df_full_train.groupby(\"room_type\").bathrooms_text.value_counts()"
   ]
  },
  {
   "cell_type": "code",
   "execution_count": null,
   "metadata": {},
   "outputs": [],
   "source": [
    "#create new columns if the bathroom is shared or not and converting bathrooms_text into a float columns"
   ]
  },
  {
   "cell_type": "code",
   "execution_count": null,
   "metadata": {},
   "outputs": [],
   "source": [
    "#since the beds are lower values only for which bathrooms_text is missing so bed column value is filled in the bathroom columns \n",
    "df_full_train[\"bathrooms_text\"].fillna(df_full_train[\"beds\"], inplace=True)"
   ]
  },
  {
   "cell_type": "code",
   "execution_count": null,
   "metadata": {},
   "outputs": [],
   "source": [
    "def bathroom_number(text):\n",
    "    text = str(text)\n",
    "    if \"half\" in text:\n",
    "        return 0.5\n",
    "    else:\n",
    "        number = re.findall(r'\\d+\\.\\d+|\\d+', text)\n",
    "    return float(number[0])\n",
    "df_full_train[\"bathrooms\"] = df_full_train[\"bathrooms_text\"].apply(bathroom_number)\n",
    "df_full_train[\"private\"] = df_full_train[\"bathrooms_text\"].apply(lambda x:0 if \"shared\" in str(x) else 1)"
   ]
  },
  {
   "cell_type": "code",
   "execution_count": null,
   "metadata": {},
   "outputs": [],
   "source": [
    "df_full_train[\"private\"] = df_full_train[\"bathrooms_text\"].apply(lambda x:0 if \"shared\" in str(x) else 1)"
   ]
  },
  {
   "cell_type": "code",
   "execution_count": null,
   "metadata": {},
   "outputs": [],
   "source": [
    "df_full_train.private.value_counts().sort_values(ascending=True).plot.barh(figsize=(10,3),width=0.3,color=[\"g\",\"b\"])\n"
   ]
  },
  {
   "cell_type": "code",
   "execution_count": null,
   "metadata": {},
   "outputs": [],
   "source": [
    "bathroom_counts = df_full_train[\"bathrooms\"].value_counts().sort_index()\n",
    "# Plot the horizontal bar chart\n",
    "plt.figure(figsize=(15, 3))\n",
    "bars = bathroom_counts.plot.barh(width=0.5, color='b')\n",
    "plt.xlabel('Count')\n",
    "plt.ylabel('Number of Bathrooms')\n",
    "plt.title('Distribution of Bathrooms')\n",
    "\n",
    "# Annotate each bar with its value\n",
    "for bar in bars.patches:\n",
    "    plt.text(bar.get_width(), bar.get_y() + bar.get_height()/2, f'{int(bar.get_width())}', \n",
    "             va='center', ha='left', fontsize=8, color='black')\n",
    "\n",
    "plt.grid(axis='x', linestyle='--', alpha=0.7)  # Add vertical grid lines\n",
    "plt.tight_layout()  # Adjust layout to prevent clipping of labels\n",
    "plt.show()"
   ]
  },
  {
   "cell_type": "code",
   "execution_count": null,
   "metadata": {},
   "outputs": [],
   "source": [
    "accommodation_counts = df_full_train[\"accommodates\"].value_counts().sort_index()\n",
    "# Plot the horizontal bar chart\n",
    "plt.figure(figsize=(15, 3))\n",
    "bars = accommodation_counts.plot.barh(width=0.5, color='b')\n",
    "plt.xlabel('Count')\n",
    "plt.ylabel('Accommodation size')\n",
    "plt.title('Distribution of Accommodation')\n",
    "\n",
    "# Annotate each bar with its value\n",
    "for bar in bars.patches:\n",
    "    plt.text(bar.get_width(), bar.get_y() + bar.get_height()/2, f'{int(bar.get_width())}', \n",
    "             va='center', ha='left', fontsize=8, color='black')\n",
    "\n",
    "plt.grid(axis='x', linestyle='--', alpha=0.7)  # Add vertical grid lines\n",
    "plt.tight_layout()  # Adjust layout to prevent clipping of labels\n",
    "plt.show()"
   ]
  },
  {
   "cell_type": "code",
   "execution_count": null,
   "metadata": {},
   "outputs": [],
   "source": [
    "plt.figure(figsize=(10, 6))\n",
    "ax = df_full_train[\"minimum_nights\"].value_counts().sort_index().plot(kind='bar', color='b')\n",
    "plt.xlabel('Minimum Nights')\n",
    "plt.ylabel('Frequency')\n",
    "plt.title('Distribution of Minimum Nights')\n",
    "plt.grid(axis='y', linestyle='--', alpha=0.7)  # Add horizontal grid lines\n",
    "\n",
    "# Annotate each bar with its count value\n",
    "for i in ax.patches:\n",
    "    plt.text(i.get_x() + i.get_width()/2, i.get_height() + 10, str(int(i.get_height())), \n",
    "             ha='center', va='bottom', fontsize=8)\n",
    "\n",
    "plt.tight_layout()  # Adjust layout to prevent clipping of labels\n",
    "plt.show()\n"
   ]
  },
  {
   "cell_type": "code",
   "execution_count": null,
   "metadata": {},
   "outputs": [],
   "source": []
  }
 ],
 "metadata": {
  "kernelspec": {
   "display_name": "Amsterdam_Airbnb-xDOfFPo6",
   "language": "python",
   "name": "python3"
  },
  "language_info": {
   "codemirror_mode": {
    "name": "ipython",
    "version": 3
   },
   "file_extension": ".py",
   "mimetype": "text/x-python",
   "name": "python",
   "nbconvert_exporter": "python",
   "pygments_lexer": "ipython3",
   "version": "3.11.5"
  }
 },
 "nbformat": 4,
 "nbformat_minor": 2
}
